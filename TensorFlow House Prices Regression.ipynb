{
 "cells": [
  {
   "cell_type": "code",
   "execution_count": 1,
   "metadata": {},
   "outputs": [],
   "source": [
    "import pandas as pd\n",
    "import numpy as np\n",
    "import matplotlib.pyplot as plt\n",
    "from sklearn.preprocessing import StandardScaler\n",
    "from sklearn.model_selection import train_test_split\n",
    "import tensorflow as tf\n",
    "from tensorflow.keras.optimizers import Adam\n",
    "from tensorflow.keras.metrics import RootMeanSquaredError\n",
    "from tensorflow.keras.models import Sequential\n",
    "from tensorflow.keras.layers import Dense, Dropout\n",
    "from tensorflow.keras.callbacks import EarlyStopping, LambdaCallback"
   ]
  },
  {
   "cell_type": "code",
   "execution_count": 2,
   "metadata": {},
   "outputs": [],
   "source": [
    "# Import data\n",
    "df = pd.read_csv(\n",
    "    \"data.csv\", \n",
    "    names = [\"serial\", \"date\", \"age\", \"distance\", \"stores\", \"latitude\", \"longitude\", \"price\"]\n",
    ")"
   ]
  },
  {
   "cell_type": "code",
   "execution_count": 3,
   "metadata": {},
   "outputs": [
    {
     "data": {
      "text/plain": [
       "serial       0\n",
       "date         0\n",
       "age          0\n",
       "distance     0\n",
       "stores       0\n",
       "latitude     0\n",
       "longitude    0\n",
       "price        0\n",
       "dtype: int64"
      ]
     },
     "execution_count": 3,
     "metadata": {},
     "output_type": "execute_result"
    }
   ],
   "source": [
    "# Check for missing values\n",
    "df.isna().sum()"
   ]
  },
  {
   "cell_type": "code",
   "execution_count": 4,
   "metadata": {},
   "outputs": [],
   "source": [
    "# Splitting into train-test\n",
    "X_train, X_test, Y_train, Y_test = train_test_split(\n",
    "    df.loc[:, df.columns != \"price\"],\n",
    "    df[[\"price\"]]\n",
    ")"
   ]
  },
  {
   "cell_type": "code",
   "execution_count": 5,
   "metadata": {},
   "outputs": [],
   "source": [
    "# Dropping unnecessary columns\n",
    "X_train = X_train.drop(columns = [\"serial\"])\n",
    "X_test = X_test.drop(columns = [\"serial\"])"
   ]
  },
  {
   "cell_type": "code",
   "execution_count": 6,
   "metadata": {},
   "outputs": [],
   "source": [
    "# Standardizing data\n",
    "mask = X_train.columns.isin([\"date\"])\n",
    "cols = X_train.columns[~mask]\n",
    "\n",
    "scaler = StandardScaler()\n",
    "scaler = scaler.fit(X_train[cols].values)\n",
    "\n",
    "X_train[cols] = scaler.transform(X_train[cols].values)\n",
    "X_test[cols] = scaler.transform(X_test[cols].values)"
   ]
  },
  {
   "cell_type": "code",
   "execution_count": 7,
   "metadata": {},
   "outputs": [],
   "source": [
    "# Model building\n",
    "n_inputs = X_train.shape[1]\n",
    "n_outputs = 1\n",
    "\n",
    "model = Sequential([\n",
    "    Dense(10, input_shape = (n_inputs, ), activation = \"relu\"),\n",
    "    Dense(20, activation = \"relu\"),\n",
    "    Dense(5, activation = \"relu\"),\n",
    "    Dense(n_outputs),\n",
    "])"
   ]
  },
  {
   "cell_type": "code",
   "execution_count": 8,
   "metadata": {},
   "outputs": [],
   "source": [
    "# Compile model\n",
    "model.compile(\n",
    "    loss = \"mse\",\n",
    "    metrics = [RootMeanSquaredError()],\n",
    "    optimizer = Adam()\n",
    ")"
   ]
  },
  {
   "cell_type": "code",
   "execution_count": 9,
   "metadata": {},
   "outputs": [
    {
     "name": "stdout",
     "output_type": "stream",
     "text": [
      "Model: \"sequential\"\n",
      "_________________________________________________________________\n",
      "Layer (type)                 Output Shape              Param #   \n",
      "=================================================================\n",
      "dense (Dense)                (None, 10)                70        \n",
      "_________________________________________________________________\n",
      "dense_1 (Dense)              (None, 20)                220       \n",
      "_________________________________________________________________\n",
      "dense_2 (Dense)              (None, 5)                 105       \n",
      "_________________________________________________________________\n",
      "dense_3 (Dense)              (None, 1)                 6         \n",
      "=================================================================\n",
      "Total params: 401\n",
      "Trainable params: 401\n",
      "Non-trainable params: 0\n",
      "_________________________________________________________________\n"
     ]
    }
   ],
   "source": [
    "# Model summary\n",
    "model.summary()"
   ]
  },
  {
   "cell_type": "code",
   "execution_count": 10,
   "metadata": {},
   "outputs": [],
   "source": [
    "es = EarlyStopping(monitor = \"val_loss\", patience = 5)"
   ]
  },
  {
   "cell_type": "code",
   "execution_count": 11,
   "metadata": {},
   "outputs": [],
   "source": [
    "pred_untrained = model.predict(X_test.values)"
   ]
  },
  {
   "cell_type": "code",
   "execution_count": 12,
   "metadata": {},
   "outputs": [
    {
     "name": "stdout",
     "output_type": "stream",
     "text": [
      "Train on 3750 samples, validate on 1250 samples\n",
      "Epoch 1/500\n",
      "3750/3750 [==============================] - 1s 191us/sample - loss: 170025185.5531 - root_mean_squared_error: 13039.3721 - val_loss: 140264331.0848 - val_root_mean_squared_error: 11843.3252\n",
      "Epoch 2/500\n",
      "3750/3750 [==============================] - 0s 46us/sample - loss: 90342413.7003 - root_mean_squared_error: 9504.8643 - val_loss: 36165273.5232 - val_root_mean_squared_error: 6013.7563\n",
      "Epoch 3/500\n",
      "3750/3750 [==============================] - 0s 51us/sample - loss: 10572912.1165 - root_mean_squared_error: 3251.6016 - val_loss: 1129091.0732 - val_root_mean_squared_error: 1062.5870\n",
      "Epoch 4/500\n",
      "3750/3750 [==============================] - 0s 50us/sample - loss: 1060673.3699 - root_mean_squared_error: 1029.8899 - val_loss: 989612.5714 - val_root_mean_squared_error: 994.7927\n",
      "Epoch 5/500\n",
      "3750/3750 [==============================] - 0s 48us/sample - loss: 1044335.8098 - root_mean_squared_error: 1021.9274 - val_loss: 986365.8794 - val_root_mean_squared_error: 993.1595\n",
      "Epoch 6/500\n",
      "3750/3750 [==============================] - 0s 48us/sample - loss: 1041275.5778 - root_mean_squared_error: 1020.4293 - val_loss: 984062.8584 - val_root_mean_squared_error: 991.9995\n",
      "Epoch 7/500\n",
      "3750/3750 [==============================] - 0s 48us/sample - loss: 1038042.1736 - root_mean_squared_error: 1018.8436 - val_loss: 980672.3194 - val_root_mean_squared_error: 990.2891\n",
      "Epoch 8/500\n",
      "3750/3750 [==============================] - 0s 46us/sample - loss: 1033208.4791 - root_mean_squared_error: 1016.4686 - val_loss: 987409.0030 - val_root_mean_squared_error: 993.6846\n",
      "Epoch 9/500\n",
      "3750/3750 [==============================] - 0s 45us/sample - loss: 1033866.1945 - root_mean_squared_error: 1016.7921 - val_loss: 975185.5212 - val_root_mean_squared_error: 987.5148\n",
      "Epoch 10/500\n",
      "3750/3750 [==============================] - 0s 46us/sample - loss: 1029231.8665 - root_mean_squared_error: 1014.5107 - val_loss: 972391.1374 - val_root_mean_squared_error: 986.0990\n",
      "Epoch 11/500\n",
      "3750/3750 [==============================] - 0s 44us/sample - loss: 1026119.7805 - root_mean_squared_error: 1012.9757 - val_loss: 969959.0018 - val_root_mean_squared_error: 984.8649\n",
      "Epoch 12/500\n",
      "3750/3750 [==============================] - 0s 45us/sample - loss: 1024186.2276 - root_mean_squared_error: 1012.0209 - val_loss: 966458.3432 - val_root_mean_squared_error: 983.0861\n",
      "Epoch 13/500\n",
      "3750/3750 [==============================] - 0s 46us/sample - loss: 1021756.3352 - root_mean_squared_error: 1010.8197 - val_loss: 963590.7488 - val_root_mean_squared_error: 981.6265\n",
      "Epoch 14/500\n",
      "3750/3750 [==============================] - 0s 46us/sample - loss: 1020489.2947 - root_mean_squared_error: 1010.1928 - val_loss: 960974.2384 - val_root_mean_squared_error: 980.2930\n",
      "Epoch 15/500\n",
      "3750/3750 [==============================] - 0s 45us/sample - loss: 1014898.3875 - root_mean_squared_error: 1007.4218 - val_loss: 959283.0124 - val_root_mean_squared_error: 979.4299\n",
      "Epoch 16/500\n",
      "3750/3750 [==============================] - 0s 43us/sample - loss: 1012596.3509 - root_mean_squared_error: 1006.2784 - val_loss: 954926.4194 - val_root_mean_squared_error: 977.2034\n",
      "Epoch 17/500\n",
      "3750/3750 [==============================] - 0s 44us/sample - loss: 1008538.7913 - root_mean_squared_error: 1004.2603 - val_loss: 952186.2338 - val_root_mean_squared_error: 975.8003\n",
      "Epoch 18/500\n",
      "3750/3750 [==============================] - 0s 47us/sample - loss: 1006414.5904 - root_mean_squared_error: 1003.2021 - val_loss: 950686.7046 - val_root_mean_squared_error: 975.0317\n",
      "Epoch 19/500\n",
      "3750/3750 [==============================] - 0s 60us/sample - loss: 1002698.3277 - root_mean_squared_error: 1001.3483 - val_loss: 946430.1216 - val_root_mean_squared_error: 972.8464\n",
      "Epoch 20/500\n",
      "3750/3750 [==============================] - 0s 58us/sample - loss: 1000027.0885 - root_mean_squared_error: 1000.0135 - val_loss: 946115.7722 - val_root_mean_squared_error: 972.6849\n",
      "Epoch 21/500\n",
      "3750/3750 [==============================] - 0s 49us/sample - loss: 997940.2053 - root_mean_squared_error: 998.9696 - val_loss: 941384.5786 - val_root_mean_squared_error: 970.2498\n",
      "Epoch 22/500\n",
      "3750/3750 [==============================] - 0s 49us/sample - loss: 995801.5540 - root_mean_squared_error: 997.8986 - val_loss: 939243.8636 - val_root_mean_squared_error: 969.1460\n",
      "Epoch 23/500\n",
      "3750/3750 [==============================] - 0s 54us/sample - loss: 991479.6705 - root_mean_squared_error: 995.7308 - val_loss: 935532.6314 - val_root_mean_squared_error: 967.2293\n",
      "Epoch 24/500\n",
      "3750/3750 [==============================] - 0s 51us/sample - loss: 989423.5280 - root_mean_squared_error: 994.6978 - val_loss: 933308.3654 - val_root_mean_squared_error: 966.0789\n",
      "Epoch 25/500\n",
      "3750/3750 [==============================] - 0s 43us/sample - loss: 985612.2605 - root_mean_squared_error: 992.7800 - val_loss: 929559.8064 - val_root_mean_squared_error: 964.1369\n",
      "Epoch 26/500\n",
      "3750/3750 [==============================] - 0s 42us/sample - loss: 983097.0330 - root_mean_squared_error: 991.5126 - val_loss: 926379.4478 - val_root_mean_squared_error: 962.4861\n",
      "Epoch 27/500\n",
      "3750/3750 [==============================] - 0s 43us/sample - loss: 979011.6669 - root_mean_squared_error: 989.4501 - val_loss: 924009.9352 - val_root_mean_squared_error: 961.2544\n",
      "Epoch 28/500\n",
      "3750/3750 [==============================] - 0s 43us/sample - loss: 975724.2932 - root_mean_squared_error: 987.7875 - val_loss: 943019.3610 - val_root_mean_squared_error: 971.0919\n",
      "Epoch 29/500\n",
      "3750/3750 [==============================] - 0s 43us/sample - loss: 977825.1671 - root_mean_squared_error: 988.8505 - val_loss: 924373.1396 - val_root_mean_squared_error: 961.4433\n",
      "Epoch 30/500\n",
      "3750/3750 [==============================] - 0s 49us/sample - loss: 969780.1574 - root_mean_squared_error: 984.7742 - val_loss: 915661.5172 - val_root_mean_squared_error: 956.9020\n",
      "Epoch 31/500\n",
      "3750/3750 [==============================] - 0s 51us/sample - loss: 965662.5210 - root_mean_squared_error: 982.6813 - val_loss: 921525.6268 - val_root_mean_squared_error: 959.9613\n",
      "Epoch 32/500\n",
      "3750/3750 [==============================] - 0s 46us/sample - loss: 967451.8599 - root_mean_squared_error: 983.5914 - val_loss: 910646.9542 - val_root_mean_squared_error: 954.2783\n",
      "Epoch 33/500\n",
      "3750/3750 [==============================] - 0s 45us/sample - loss: 962468.5662 - root_mean_squared_error: 981.0547 - val_loss: 906806.7790 - val_root_mean_squared_error: 952.2640\n",
      "Epoch 34/500\n",
      "3750/3750 [==============================] - 0s 45us/sample - loss: 960912.8491 - root_mean_squared_error: 980.2615 - val_loss: 903530.4150 - val_root_mean_squared_error: 950.5422\n",
      "Epoch 35/500\n",
      "3750/3750 [==============================] - 0s 45us/sample - loss: 962918.8456 - root_mean_squared_error: 981.2842 - val_loss: 909834.2800 - val_root_mean_squared_error: 953.8523\n",
      "Epoch 36/500\n",
      "3750/3750 [==============================] - 0s 46us/sample - loss: 953005.5211 - root_mean_squared_error: 976.2200 - val_loss: 901005.2028 - val_root_mean_squared_error: 949.2130\n",
      "Epoch 37/500\n",
      "3750/3750 [==============================] - 0s 45us/sample - loss: 951410.9318 - root_mean_squared_error: 975.4031 - val_loss: 894702.9150 - val_root_mean_squared_error: 945.8873\n",
      "Epoch 38/500\n",
      "3750/3750 [==============================] - 0s 45us/sample - loss: 946576.7300 - root_mean_squared_error: 972.9218 - val_loss: 907532.6816 - val_root_mean_squared_error: 952.6451\n",
      "Epoch 39/500\n",
      "3750/3750 [==============================] - 0s 45us/sample - loss: 943431.4974 - root_mean_squared_error: 971.3038 - val_loss: 902541.4576 - val_root_mean_squared_error: 950.0218\n",
      "Epoch 40/500\n",
      "3750/3750 [==============================] - 0s 44us/sample - loss: 942683.7975 - root_mean_squared_error: 970.9189 - val_loss: 884262.2524 - val_root_mean_squared_error: 940.3522\n",
      "Epoch 41/500\n",
      "3750/3750 [==============================] - 0s 44us/sample - loss: 934742.8833 - root_mean_squared_error: 966.8209 - val_loss: 881172.7308 - val_root_mean_squared_error: 938.7081\n",
      "Epoch 42/500\n",
      "3750/3750 [==============================] - 0s 44us/sample - loss: 933833.5042 - root_mean_squared_error: 966.3506 - val_loss: 879281.5236 - val_root_mean_squared_error: 937.7001\n"
     ]
    },
    {
     "name": "stdout",
     "output_type": "stream",
     "text": [
      "Epoch 43/500\n",
      "3750/3750 [==============================] - 0s 45us/sample - loss: 931509.2062 - root_mean_squared_error: 965.1473 - val_loss: 877535.8276 - val_root_mean_squared_error: 936.7689\n",
      "Epoch 44/500\n",
      "3750/3750 [==============================] - 0s 44us/sample - loss: 929339.8466 - root_mean_squared_error: 964.0228 - val_loss: 871119.0234 - val_root_mean_squared_error: 933.3376\n",
      "Epoch 45/500\n",
      "3750/3750 [==============================] - 0s 45us/sample - loss: 923895.8074 - root_mean_squared_error: 961.1950 - val_loss: 867935.4498 - val_root_mean_squared_error: 931.6304\n",
      "Epoch 46/500\n",
      "3750/3750 [==============================] - 0s 45us/sample - loss: 919199.8277 - root_mean_squared_error: 958.7491 - val_loss: 886618.9008 - val_root_mean_squared_error: 941.6044\n",
      "Epoch 47/500\n",
      "3750/3750 [==============================] - 0s 33us/sample - loss: 921012.4057 - root_mean_squared_error: 959.6939 - val_loss: 911601.8900 - val_root_mean_squared_error: 954.7785\n",
      "Epoch 48/500\n",
      "3750/3750 [==============================] - 0s 36us/sample - loss: 918080.8739 - root_mean_squared_error: 958.1653 - val_loss: 866950.9032 - val_root_mean_squared_error: 931.1020\n",
      "Epoch 49/500\n",
      "3750/3750 [==============================] - 0s 35us/sample - loss: 909140.6543 - root_mean_squared_error: 953.4888 - val_loss: 868365.7308 - val_root_mean_squared_error: 931.8615\n",
      "Epoch 50/500\n",
      "3750/3750 [==============================] - 0s 34us/sample - loss: 908915.7138 - root_mean_squared_error: 953.3708 - val_loss: 850021.4622 - val_root_mean_squared_error: 921.9661\n",
      "Epoch 51/500\n",
      "3750/3750 [==============================] - 0s 38us/sample - loss: 903956.7540 - root_mean_squared_error: 950.7665 - val_loss: 847136.3410 - val_root_mean_squared_error: 920.4001\n",
      "Epoch 52/500\n",
      "3750/3750 [==============================] - 0s 33us/sample - loss: 897589.1930 - root_mean_squared_error: 947.4118 - val_loss: 842724.7208 - val_root_mean_squared_error: 918.0004\n",
      "Epoch 53/500\n",
      "3750/3750 [==============================] - 0s 33us/sample - loss: 895542.8943 - root_mean_squared_error: 946.3313 - val_loss: 839294.0110 - val_root_mean_squared_error: 916.1298\n",
      "Epoch 54/500\n",
      "3750/3750 [==============================] - 0s 34us/sample - loss: 890884.2078 - root_mean_squared_error: 943.8666 - val_loss: 837801.1290 - val_root_mean_squared_error: 915.3148\n",
      "Epoch 55/500\n",
      "3750/3750 [==============================] - 0s 41us/sample - loss: 884827.8928 - root_mean_squared_error: 940.6529 - val_loss: 831095.5558 - val_root_mean_squared_error: 911.6445\n",
      "Epoch 56/500\n",
      "3750/3750 [==============================] - 0s 56us/sample - loss: 880972.5480 - root_mean_squared_error: 938.6014 - val_loss: 847575.9658 - val_root_mean_squared_error: 920.6389\n",
      "Epoch 57/500\n",
      "3750/3750 [==============================] - 0s 55us/sample - loss: 876851.5010 - root_mean_squared_error: 936.4035 - val_loss: 832144.1274 - val_root_mean_squared_error: 912.2193\n",
      "Epoch 58/500\n",
      "3750/3750 [==============================] - 0s 47us/sample - loss: 870667.0274 - root_mean_squared_error: 933.0953 - val_loss: 825141.9378 - val_root_mean_squared_error: 908.3732\n",
      "Epoch 59/500\n",
      "3750/3750 [==============================] - 0s 39us/sample - loss: 871679.2144 - root_mean_squared_error: 933.6377 - val_loss: 815901.9710 - val_root_mean_squared_error: 903.2730\n",
      "Epoch 60/500\n",
      "3750/3750 [==============================] - 0s 37us/sample - loss: 862273.9865 - root_mean_squared_error: 928.5870 - val_loss: 810318.6344 - val_root_mean_squared_error: 900.1771\n",
      "Epoch 61/500\n",
      "3750/3750 [==============================] - 0s 37us/sample - loss: 859473.4796 - root_mean_squared_error: 927.0779 - val_loss: 811014.3612 - val_root_mean_squared_error: 900.5634\n",
      "Epoch 62/500\n",
      "3750/3750 [==============================] - 0s 32us/sample - loss: 852903.3891 - root_mean_squared_error: 923.5276 - val_loss: 804434.0070 - val_root_mean_squared_error: 896.9025\n",
      "Epoch 63/500\n",
      "3750/3750 [==============================] - 0s 33us/sample - loss: 849834.1712 - root_mean_squared_error: 921.8644 - val_loss: 802117.6274 - val_root_mean_squared_error: 895.6101\n",
      "Epoch 64/500\n",
      "3750/3750 [==============================] - 0s 32us/sample - loss: 846096.8767 - root_mean_squared_error: 919.8353 - val_loss: 796899.5320 - val_root_mean_squared_error: 892.6923\n",
      "Epoch 65/500\n",
      "3750/3750 [==============================] - 0s 33us/sample - loss: 846802.4693 - root_mean_squared_error: 920.2187 - val_loss: 800796.1538 - val_root_mean_squared_error: 894.8721\n",
      "Epoch 66/500\n",
      "3750/3750 [==============================] - 0s 37us/sample - loss: 834241.9382 - root_mean_squared_error: 913.3684 - val_loss: 788080.3590 - val_root_mean_squared_error: 887.7389\n",
      "Epoch 67/500\n",
      "3750/3750 [==============================] - 0s 38us/sample - loss: 828268.0941 - root_mean_squared_error: 910.0923 - val_loss: 786825.3630 - val_root_mean_squared_error: 887.0318\n",
      "Epoch 68/500\n",
      "3750/3750 [==============================] - 0s 37us/sample - loss: 822118.7096 - root_mean_squared_error: 906.7076 - val_loss: 769012.9448 - val_root_mean_squared_error: 876.9338\n",
      "Epoch 69/500\n",
      "3750/3750 [==============================] - 0s 32us/sample - loss: 816446.1519 - root_mean_squared_error: 903.5741 - val_loss: 775199.9586 - val_root_mean_squared_error: 880.4544\n",
      "Epoch 70/500\n",
      "3750/3750 [==============================] - 0s 33us/sample - loss: 814448.2956 - root_mean_squared_error: 902.4680 - val_loss: 756935.9870 - val_root_mean_squared_error: 870.0208\n",
      "Epoch 71/500\n",
      "3750/3750 [==============================] - 0s 33us/sample - loss: 810035.3118 - root_mean_squared_error: 900.0195 - val_loss: 750375.2002 - val_root_mean_squared_error: 866.2420\n",
      "Epoch 72/500\n",
      "3750/3750 [==============================] - 0s 35us/sample - loss: 801818.8467 - root_mean_squared_error: 895.4433 - val_loss: 744219.5700 - val_root_mean_squared_error: 862.6816\n",
      "Epoch 73/500\n",
      "3750/3750 [==============================] - 0s 34us/sample - loss: 791673.3508 - root_mean_squared_error: 889.7603 - val_loss: 755187.1324 - val_root_mean_squared_error: 869.0151\n",
      "Epoch 74/500\n",
      "3750/3750 [==============================] - 0s 35us/sample - loss: 779722.2767 - root_mean_squared_error: 883.0189 - val_loss: 739705.4295 - val_root_mean_squared_error: 860.0613\n",
      "Epoch 75/500\n",
      "3750/3750 [==============================] - 0s 59us/sample - loss: 773165.4904 - root_mean_squared_error: 879.2982 - val_loss: 727173.9774 - val_root_mean_squared_error: 852.7450\n",
      "Epoch 76/500\n",
      "3750/3750 [==============================] - 0s 40us/sample - loss: 769145.7858 - root_mean_squared_error: 877.0097 - val_loss: 716676.1798 - val_root_mean_squared_error: 846.5673\n",
      "Epoch 77/500\n",
      "3750/3750 [==============================] - 0s 39us/sample - loss: 753490.9935 - root_mean_squared_error: 868.0386 - val_loss: 706372.5650 - val_root_mean_squared_error: 840.4597\n",
      "Epoch 78/500\n",
      "3750/3750 [==============================] - 0s 33us/sample - loss: 749233.5647 - root_mean_squared_error: 865.5829 - val_loss: 696195.8304 - val_root_mean_squared_error: 834.3835\n",
      "Epoch 79/500\n",
      "3750/3750 [==============================] - 0s 35us/sample - loss: 737563.5772 - root_mean_squared_error: 858.8152 - val_loss: 684235.6031 - val_root_mean_squared_error: 827.1854\n",
      "Epoch 80/500\n",
      "3750/3750 [==============================] - 0s 33us/sample - loss: 722771.0034 - root_mean_squared_error: 850.1593 - val_loss: 681538.7988 - val_root_mean_squared_error: 825.5536\n",
      "Epoch 81/500\n",
      "3750/3750 [==============================] - 0s 34us/sample - loss: 709704.0319 - root_mean_squared_error: 842.4395 - val_loss: 659541.0654 - val_root_mean_squared_error: 812.1214\n",
      "Epoch 82/500\n",
      "3750/3750 [==============================] - 0s 35us/sample - loss: 703234.0467 - root_mean_squared_error: 838.5905 - val_loss: 656422.0866 - val_root_mean_squared_error: 810.1987\n",
      "Epoch 83/500\n",
      "3750/3750 [==============================] - 0s 35us/sample - loss: 686114.1402 - root_mean_squared_error: 828.3200 - val_loss: 633488.4765 - val_root_mean_squared_error: 795.9199\n",
      "Epoch 84/500\n",
      "3750/3750 [==============================] - 0s 34us/sample - loss: 666593.1561 - root_mean_squared_error: 816.4515 - val_loss: 620425.8913 - val_root_mean_squared_error: 787.6712\n",
      "Epoch 85/500\n"
     ]
    },
    {
     "name": "stdout",
     "output_type": "stream",
     "text": [
      "3750/3750 [==============================] - 0s 34us/sample - loss: 652699.3677 - root_mean_squared_error: 807.8981 - val_loss: 604970.6679 - val_root_mean_squared_error: 777.7987\n",
      "Epoch 86/500\n",
      "3750/3750 [==============================] - 0s 35us/sample - loss: 635218.4850 - root_mean_squared_error: 797.0059 - val_loss: 596758.3602 - val_root_mean_squared_error: 772.5013\n",
      "Epoch 87/500\n",
      "3750/3750 [==============================] - 0s 32us/sample - loss: 622978.7786 - root_mean_squared_error: 789.2900 - val_loss: 568777.4523 - val_root_mean_squared_error: 754.1733\n",
      "Epoch 88/500\n",
      "3750/3750 [==============================] - 0s 33us/sample - loss: 596069.3947 - root_mean_squared_error: 772.0553 - val_loss: 573012.3637 - val_root_mean_squared_error: 756.9758\n",
      "Epoch 89/500\n",
      "3750/3750 [==============================] - 0s 33us/sample - loss: 577451.8812 - root_mean_squared_error: 759.9025 - val_loss: 530705.9907 - val_root_mean_squared_error: 728.4957\n",
      "Epoch 90/500\n",
      "3750/3750 [==============================] - 0s 35us/sample - loss: 556622.2209 - root_mean_squared_error: 746.0711 - val_loss: 509268.5184 - val_root_mean_squared_error: 713.6306\n",
      "Epoch 91/500\n",
      "3750/3750 [==============================] - 0s 35us/sample - loss: 531797.2861 - root_mean_squared_error: 729.2443 - val_loss: 502507.9532 - val_root_mean_squared_error: 708.8779\n",
      "Epoch 92/500\n",
      "3750/3750 [==============================] - 0s 35us/sample - loss: 508781.0172 - root_mean_squared_error: 713.2889 - val_loss: 466405.4774 - val_root_mean_squared_error: 682.9388\n",
      "Epoch 93/500\n",
      "3750/3750 [==============================] - 0s 35us/sample - loss: 494290.0994 - root_mean_squared_error: 703.0577 - val_loss: 446037.7020 - val_root_mean_squared_error: 667.8605\n",
      "Epoch 94/500\n",
      "3750/3750 [==============================] - 0s 35us/sample - loss: 466837.8960 - root_mean_squared_error: 683.2554 - val_loss: 426896.1286 - val_root_mean_squared_error: 653.3729\n",
      "Epoch 95/500\n",
      "3750/3750 [==============================] - 0s 35us/sample - loss: 439539.6733 - root_mean_squared_error: 662.9779 - val_loss: 404435.9173 - val_root_mean_squared_error: 635.9528\n",
      "Epoch 96/500\n",
      "3750/3750 [==============================] - 0s 35us/sample - loss: 418687.0687 - root_mean_squared_error: 647.0603 - val_loss: 389093.0838 - val_root_mean_squared_error: 623.7733\n",
      "Epoch 97/500\n",
      "3750/3750 [==============================] - 0s 34us/sample - loss: 395407.1004 - root_mean_squared_error: 628.8140 - val_loss: 391164.9048 - val_root_mean_squared_error: 625.4318\n",
      "Epoch 98/500\n",
      "3750/3750 [==============================] - 0s 35us/sample - loss: 375250.0323 - root_mean_squared_error: 612.5765 - val_loss: 351159.5363 - val_root_mean_squared_error: 592.5872\n",
      "Epoch 99/500\n",
      "3750/3750 [==============================] - 0s 35us/sample - loss: 349206.4857 - root_mean_squared_error: 590.9369 - val_loss: 323541.4305 - val_root_mean_squared_error: 568.8070\n",
      "Epoch 100/500\n",
      "3750/3750 [==============================] - 0s 35us/sample - loss: 334553.0230 - root_mean_squared_error: 578.4056 - val_loss: 298759.4027 - val_root_mean_squared_error: 546.5889\n",
      "Epoch 101/500\n",
      "3750/3750 [==============================] - 0s 35us/sample - loss: 309549.8014 - root_mean_squared_error: 556.3721 - val_loss: 282062.0794 - val_root_mean_squared_error: 531.0952\n",
      "Epoch 102/500\n",
      "3750/3750 [==============================] - 0s 35us/sample - loss: 295808.1593 - root_mean_squared_error: 543.8826 - val_loss: 265262.3897 - val_root_mean_squared_error: 515.0363\n",
      "Epoch 103/500\n",
      "3750/3750 [==============================] - 0s 35us/sample - loss: 278514.9749 - root_mean_squared_error: 527.7452 - val_loss: 260336.1713 - val_root_mean_squared_error: 510.2315\n",
      "Epoch 104/500\n",
      "3750/3750 [==============================] - 0s 35us/sample - loss: 267478.6697 - root_mean_squared_error: 517.1834 - val_loss: 238304.3147 - val_root_mean_squared_error: 488.1642\n",
      "Epoch 105/500\n",
      "3750/3750 [==============================] - 0s 36us/sample - loss: 248703.3097 - root_mean_squared_error: 498.7017 - val_loss: 247053.6966 - val_root_mean_squared_error: 497.0450\n",
      "Epoch 106/500\n",
      "3750/3750 [==============================] - 0s 32us/sample - loss: 233917.6277 - root_mean_squared_error: 483.6503 - val_loss: 214950.8719 - val_root_mean_squared_error: 463.6279\n",
      "Epoch 107/500\n",
      "3750/3750 [==============================] - 0s 34us/sample - loss: 222397.7258 - root_mean_squared_error: 471.5907 - val_loss: 209749.2795 - val_root_mean_squared_error: 457.9839\n",
      "Epoch 108/500\n",
      "3750/3750 [==============================] - 0s 34us/sample - loss: 223732.2394 - root_mean_squared_error: 473.0034 - val_loss: 205564.5131 - val_root_mean_squared_error: 453.3922\n",
      "Epoch 109/500\n",
      "3750/3750 [==============================] - 0s 45us/sample - loss: 211958.2543 - root_mean_squared_error: 460.3893 - val_loss: 216815.6277 - val_root_mean_squared_error: 465.6347\n",
      "Epoch 110/500\n",
      "3750/3750 [==============================] - 0s 57us/sample - loss: 201301.5322 - root_mean_squared_error: 448.6664 - val_loss: 191064.4208 - val_root_mean_squared_error: 437.1091\n",
      "Epoch 111/500\n",
      "3750/3750 [==============================] - 0s 53us/sample - loss: 195993.3828 - root_mean_squared_error: 442.7114 - val_loss: 185098.9676 - val_root_mean_squared_error: 430.2313\n",
      "Epoch 112/500\n",
      "3750/3750 [==============================] - 0s 48us/sample - loss: 192398.9965 - root_mean_squared_error: 438.6330 - val_loss: 180419.9269 - val_root_mean_squared_error: 424.7587\n",
      "Epoch 113/500\n",
      "3750/3750 [==============================] - 0s 40us/sample - loss: 187788.6269 - root_mean_squared_error: 433.3459 - val_loss: 200424.7452 - val_root_mean_squared_error: 447.6882\n",
      "Epoch 114/500\n",
      "3750/3750 [==============================] - 0s 44us/sample - loss: 186628.0221 - root_mean_squared_error: 432.0046 - val_loss: 175727.8846 - val_root_mean_squared_error: 419.1991\n",
      "Epoch 115/500\n",
      "3750/3750 [==============================] - 0s 43us/sample - loss: 186856.3712 - root_mean_squared_error: 432.2689 - val_loss: 179948.4618 - val_root_mean_squared_error: 424.2033\n",
      "Epoch 116/500\n",
      "3750/3750 [==============================] - 0s 50us/sample - loss: 182543.1951 - root_mean_squared_error: 427.2507 - val_loss: 182406.0908 - val_root_mean_squared_error: 427.0903\n",
      "Epoch 117/500\n",
      "3750/3750 [==============================] - 0s 45us/sample - loss: 181132.7792 - root_mean_squared_error: 425.5970 - val_loss: 184391.0671 - val_root_mean_squared_error: 429.4078\n",
      "Epoch 118/500\n",
      "3750/3750 [==============================] - 0s 35us/sample - loss: 180218.0777 - root_mean_squared_error: 424.5210 - val_loss: 186571.8184 - val_root_mean_squared_error: 431.9396\n",
      "Epoch 119/500\n",
      "3750/3750 [==============================] - 0s 49us/sample - loss: 183295.4864 - root_mean_squared_error: 428.1302 - val_loss: 175864.2573 - val_root_mean_squared_error: 419.3617\n"
     ]
    }
   ],
   "source": [
    "history = model.fit(\n",
    "    X_train.values,\n",
    "    Y_train.values,\n",
    "    validation_data = [X_test.values, Y_test.values],\n",
    "    epochs = 500,\n",
    "    callbacks = [es]\n",
    ")"
   ]
  },
  {
   "cell_type": "code",
   "execution_count": 13,
   "metadata": {},
   "outputs": [],
   "source": [
    "def plot_loss(history):\n",
    "    h = history.history\n",
    "    x_lim = len(h['loss'])\n",
    "    plt.figure(figsize=(8, 8))\n",
    "    plt.plot(range(x_lim), h['val_loss'], label = 'Validation Loss')\n",
    "    plt.plot(range(x_lim), h['loss'], label = 'Training Loss')\n",
    "    plt.xlabel('Epochs')\n",
    "    plt.ylabel('Loss')\n",
    "    plt.legend()\n",
    "    plt.show()\n",
    "    return"
   ]
  },
  {
   "cell_type": "code",
   "execution_count": 14,
   "metadata": {},
   "outputs": [
    {
     "data": {
      "image/png": "[encoded data removed]",
      "text/plain": [
       "<Figure size 576x576 with 1 Axes>"
      ]
     },
     "metadata": {
      "needs_background": "light"
     },
     "output_type": "display_data"
    }
   ],
   "source": [
    "plot_loss(history)"
   ]
  },
  {
   "cell_type": "code",
   "execution_count": 15,
   "metadata": {},
   "outputs": [
    {
     "data": {
      "text/plain": [
       "array([[12949.212],\n",
       "       [14859.9  ],\n",
       "       [12504.563],\n",
       "       ...,\n",
       "       [12994.483],\n",
       "       [14283.491],\n",
       "       [15603.083]], dtype=float32)"
      ]
     },
     "execution_count": 15,
     "metadata": {},
     "output_type": "execute_result"
    }
   ],
   "source": [
    "pred_trained = model.predict(X_test.values)\n",
    "pred_trained"
   ]
  },
  {
   "cell_type": "code",
   "execution_count": 16,
   "metadata": {},
   "outputs": [
    {
     "data": {
      "text/html": [
       "<div>\n",
       "<style scoped>\n",
       "    .dataframe tbody tr th:only-of-type {\n",
       "        vertical-align: middle;\n",
       "    }\n",
       "\n",
       "    .dataframe tbody tr th {\n",
       "        vertical-align: top;\n",
       "    }\n",
       "\n",
       "    .dataframe thead th {\n",
       "        text-align: right;\n",
       "    }\n",
       "</style>\n",
       "<table border=\"1\" class=\"dataframe\">\n",
       "  <thead>\n",
       "    <tr style=\"text-align: right;\">\n",
       "      <th></th>\n",
       "      <th>price</th>\n",
       "    </tr>\n",
       "  </thead>\n",
       "  <tbody>\n",
       "    <tr>\n",
       "      <th>4934</th>\n",
       "      <td>13537</td>\n",
       "    </tr>\n",
       "    <tr>\n",
       "      <th>2077</th>\n",
       "      <td>15103</td>\n",
       "    </tr>\n",
       "    <tr>\n",
       "      <th>3532</th>\n",
       "      <td>12099</td>\n",
       "    </tr>\n",
       "    <tr>\n",
       "      <th>4801</th>\n",
       "      <td>14950</td>\n",
       "    </tr>\n",
       "    <tr>\n",
       "      <th>1859</th>\n",
       "      <td>13457</td>\n",
       "    </tr>\n",
       "    <tr>\n",
       "      <th>...</th>\n",
       "      <td>...</td>\n",
       "    </tr>\n",
       "    <tr>\n",
       "      <th>2438</th>\n",
       "      <td>12192</td>\n",
       "    </tr>\n",
       "    <tr>\n",
       "      <th>2460</th>\n",
       "      <td>14389</td>\n",
       "    </tr>\n",
       "    <tr>\n",
       "      <th>1756</th>\n",
       "      <td>13780</td>\n",
       "    </tr>\n",
       "    <tr>\n",
       "      <th>4166</th>\n",
       "      <td>13561</td>\n",
       "    </tr>\n",
       "    <tr>\n",
       "      <th>1572</th>\n",
       "      <td>15687</td>\n",
       "    </tr>\n",
       "  </tbody>\n",
       "</table>\n",
       "<p>1250 rows × 1 columns</p>\n",
       "</div>"
      ],
      "text/plain": [
       "      price\n",
       "4934  13537\n",
       "2077  15103\n",
       "3532  12099\n",
       "4801  14950\n",
       "1859  13457\n",
       "...     ...\n",
       "2438  12192\n",
       "2460  14389\n",
       "1756  13780\n",
       "4166  13561\n",
       "1572  15687\n",
       "\n",
       "[1250 rows x 1 columns]"
      ]
     },
     "execution_count": 16,
     "metadata": {},
     "output_type": "execute_result"
    }
   ],
   "source": [
    "Y_test"
   ]
  }
 ],
 "metadata": {
  "kernelspec": {
   "display_name": "Python 3",
   "language": "python",
   "name": "python3"
  },
  "language_info": {
   "codemirror_mode": {
    "name": "ipython",
    "version": 3
   },
   "file_extension": ".py",
   "mimetype": "text/x-python",
   "name": "python",
   "nbconvert_exporter": "python",
   "pygments_lexer": "ipython3",
   "version": "3.7.4"
  }
 },
 "nbformat": 4,
 "nbformat_minor": 2
}
